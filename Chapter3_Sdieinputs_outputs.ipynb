{
 "cells": [
  {
   "cell_type": "code",
   "execution_count": null,
   "metadata": {},
   "outputs": [],
   "source": [
    "# Side inputs\n",
    "# Additional inputs to be passed in Do transform during\n",
    "# Example lits of employee ids to be excluded for attendence count\n"
   ]
  },
  {
   "cell_type": "code",
   "execution_count": null,
   "metadata": {},
   "outputs": [],
   "source": [
    "import apache_beam as beam\n",
    "\n",
    "side_list=list()\n",
    "with open ('exclude_ids.txt','r') as my_file:\n",
    "  for line in my_file:\n",
    "    side_list.append(line.rstrip())\n",
    "\n",
    "p = beam.Pipeline()\n",
    "\n",
    "# We can pass side inputs to a ParDo transform, which will get passed to its process method.\n",
    "# The first two arguments for the process method would be self and element.\n",
    "\n",
    "class FilterUsingLength(beam.DoFn):\n",
    "  def process(self, element,side_list,lower_bound, upper_bound=float('inf')):\n",
    "    id = element.split(',')[0]\n",
    "    name = element.split(',')[1]\n",
    "    id=id.decode('utf-8','ignore').encode(\"utf-8\")\n",
    "    element_list= element.split(',')\n",
    "    if (lower_bound <= len(name) <= upper_bound) and id not in side_list:\n",
    "      return [element_list]\n",
    "\n",
    "# using pardo to filter names with length between 3 and 10\n",
    "small_names =( \n",
    "                p\n",
    "                | \"Read from text file\" >> beam.io.ReadFromText('dept_data.txt')\n",
    "                | \"ParDo with side inputs\" >> beam.ParDo(FilterUsingLength(),side_list,3,10) \n",
    "                | beam.Filter(lambda record: record[3] == 'Accounts')\n",
    "                | beam.Map(lambda record: (record[0]+ \" \" + record[1], 1))\n",
    "                | beam.CombinePerKey(sum)\n",
    "                | 'Write results' >> beam.io.WriteToText('data/output_new_final')\n",
    "             )\n",
    "\n",
    "p.run()\n",
    "\n",
    "!{('head -n 20 data/output_new_final-00000-of-00001')}"
   ]
  },
  {
   "cell_type": "code",
   "execution_count": null,
   "metadata": {},
   "outputs": [],
   "source": [
    "# Side outputs\n",
    "# mutliple outputs.possible with branching\n",
    "# with_outputs(tag1, tag2.)"
   ]
  },
  {
   "cell_type": "markdown",
   "metadata": {},
   "source": [
    "![Alt text](image-30.png)"
   ]
  },
  {
   "cell_type": "code",
   "execution_count": null,
   "metadata": {},
   "outputs": [],
   "source": [
    "import apache_beam as beam\n",
    "\n",
    "# DoFn function \n",
    "class ProcessWords(beam.DoFn):\n",
    "  \n",
    "  def process(self, element, cutoff_length, marker):\n",
    "    \n",
    "    name = element.split(',')[1]\n",
    "    \n",
    "    if len(name) <= cutoff_length:\n",
    "      return [beam.pvalue.TaggedOutput('Short_Names', name)]\n",
    "    \n",
    "    else:\n",
    "      return [beam.pvalue.TaggedOutput('Long_Names', name)]\n",
    "    \n",
    "    if name.startswith(marker):\n",
    "      return name \n",
    "      \n",
    "\n",
    "p = beam.Pipeline()\n",
    "\n",
    "      \n",
    "results = (\n",
    "            p\n",
    "            | beam.io.ReadFromText('dept_data.txt')\n",
    "    \n",
    "            | beam.ParDo(ProcessWords(), cutoff_length=4, marker='A').with_outputs('Short_Names', 'Long_Names', main='Names_A')\n",
    "\n",
    "          )\n",
    "\n",
    "short_collection = results.Short_Names\n",
    "long_collection = results.Long_Names\n",
    "startA_collection = results.Names_A  \n",
    "\n",
    "# write to file  \n",
    "short_collection | 'Write 1'>> beam.io.WriteToText('short')\n",
    "\n",
    "# write to file\n",
    "long_collection | 'Write 2'>> beam.io.WriteToText('long')\n",
    "\n",
    "# write to file\n",
    "startA_collection | 'Write 3'>> beam.io.WriteToText('start_a')\n",
    "\n",
    "p.run()\n",
    "\n",
    "!{'head -n 5 short-00000-of-00001'}\n",
    "!{'head -n 5 long-00000-of-00001'}\n",
    "!{'head -n 5 start_a-00000-of-00001'}\n"
   ]
  }
 ],
 "metadata": {
  "language_info": {
   "name": "python"
  },
  "orig_nbformat": 4
 },
 "nbformat": 4,
 "nbformat_minor": 2
}
