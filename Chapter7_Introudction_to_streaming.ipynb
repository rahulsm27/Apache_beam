{
 "cells": [
  {
   "cell_type": "code",
   "execution_count": null,
   "metadata": {},
   "outputs": [],
   "source": [
    "# Streaming data source\n",
    "# Kafka, Kinesis or Google Pub SUb"
   ]
  },
  {
   "cell_type": "code",
   "execution_count": null,
   "metadata": {},
   "outputs": [],
   "source": [
    "#PubSub Streaming Architecture\n",
    "\n",
    "# Droped from topic after messages are acknowldegment\n",
    "# Publisher and subsriber are decopouled"
   ]
  },
  {
   "cell_type": "markdown",
   "metadata": {},
   "source": [
    "![Alt text](image-39.png)"
   ]
  },
  {
   "cell_type": "markdown",
   "metadata": {},
   "source": [
    "![Alt text](image-40.png)"
   ]
  },
  {
   "cell_type": "code",
   "execution_count": null,
   "metadata": {},
   "outputs": [],
   "source": [
    "# Setting up GCP PubSub Project\n",
    "\n",
    "# Create google account serivce id and key \n",
    "    # Created -> demo_pub_sub\n",
    "    # Downloaded the key"
   ]
  },
  {
   "cell_type": "code",
   "execution_count": null,
   "metadata": {
    "vscode": {
     "languageId": "powershell"
    }
   },
   "outputs": [],
   "source": [
    "# Go to pub sub on google cloud and create topic"
   ]
  },
  {
   "cell_type": "markdown",
   "metadata": {},
   "source": [
    "![Alt text](image-41.png)"
   ]
  },
  {
   "cell_type": "code",
   "execution_count": null,
   "metadata": {},
   "outputs": [],
   "source": [
    "# # It will create topic and also subscription automatically\n",
    "# Topic - Topic1\n",
    "# Subscription - Topic1-sub"
   ]
  },
  {
   "cell_type": "code",
   "execution_count": 4,
   "metadata": {},
   "outputs": [],
   "source": [
    "#!pip3 install google-cloud-pubsub"
   ]
  },
  {
   "cell_type": "code",
   "execution_count": 3,
   "metadata": {},
   "outputs": [],
   "source": [
    "# To publish a message to topic\n",
    "\n",
    "import os\n",
    "import time\n",
    "from google.cloud import pubsub_v1"
   ]
  },
  {
   "cell_type": "code",
   "execution_count": 5,
   "metadata": {},
   "outputs": [],
   "source": [
    "def publish():\n",
    "    project ='mlendtoend'\n",
    "    topic = 'Topic1'\n",
    "    pubsub_topic = f'projects/{project}/topics/{topic}'\n",
    "\n",
    "    path_service_account = 'demo_pub_sub.json'\n",
    "\n",
    "    os.environ['GOOGLE_APPLICATION_CREDENTIALS'] = path_service_account\n",
    "\n",
    "    input_file = \"pubsub_demo.txt\"\n",
    "\n",
    "    #create publisher\n",
    "\n",
    "    publisher = pubsub_v1.PublisherClient()\n",
    "    with open(input_file,'rb') as ifp:\n",
    "\n",
    "\n",
    "      #  header = ifp.readline()\n",
    "\n",
    "        for line in ifp:\n",
    "            event_data = line\n",
    "            print(f'Publishing {event_data} to {pubsub_topic}')\n",
    "            publisher.publish(pubsub_topic,event_data)\n",
    "            time.sleep(1)\n"
   ]
  },
  {
   "cell_type": "code",
   "execution_count": 6,
   "metadata": {},
   "outputs": [
    {
     "name": "stdout",
     "output_type": "stream",
     "text": [
      "Publishing b'1\\r\\n' to projects/mlendtoend/topics/Topic1\n",
      "Publishing b'2\\r\\n' to projects/mlendtoend/topics/Topic1\n",
      "Publishing b'3\\r\\n' to projects/mlendtoend/topics/Topic1\n",
      "Publishing b'4\\r\\n' to projects/mlendtoend/topics/Topic1\n",
      "Publishing b'5\\r\\n' to projects/mlendtoend/topics/Topic1\n",
      "Publishing b'6\\r\\n' to projects/mlendtoend/topics/Topic1\n",
      "Publishing b'7\\r\\n' to projects/mlendtoend/topics/Topic1\n",
      "Publishing b'8\\r\\n' to projects/mlendtoend/topics/Topic1\n",
      "Publishing b'9' to projects/mlendtoend/topics/Topic1\n"
     ]
    }
   ],
   "source": [
    "publish()"
   ]
  },
  {
   "cell_type": "code",
   "execution_count": 7,
   "metadata": {},
   "outputs": [],
   "source": [
    "from google.cloud import pubsub_v1\n",
    "import time\n",
    "import os\n",
    "\n",
    "def subscribe():\n",
    "    project ='mlendtoend'\n",
    "    subscription = 'Topic1-sub'\n",
    "    \n",
    "    # Replace 'my-service-account-path' with your service account path\n",
    "    os.environ[\"GOOGLE_APPLICATION_CREDENTIALS\"] = 'demo_pub_sub.json'\n",
    "    \n",
    "    # Replace 'my-subscription' with your subscription id\n",
    "    subscription_path = f'projects/{project}/subscriptions/{subscription}'\n",
    "    \n",
    "    subscriber = pubsub_v1.SubscriberClient()\n",
    " \n",
    "    def callback(message):\n",
    "        print(('Received message: {}'.format(message)))    \n",
    "        message.ack()\n",
    "\n",
    "    subscriber.subscribe(subscription_path, callback=callback)\n",
    "\n",
    "    # while True:\n",
    "    #     time.sleep(60)"
   ]
  },
  {
   "cell_type": "code",
   "execution_count": 8,
   "metadata": {},
   "outputs": [
    {
     "name": "stdout",
     "output_type": "stream",
     "text": [
      "Received message: Message {\n",
      "  data: b'5\\r\\n'\n",
      "  ordering_key: ''\n",
      "  attributes: {}\n",
      "}\n",
      "Received message: Message {\n",
      "  data: b'3\\r\\n'\n",
      "  ordering_key: ''\n",
      "  attributes: {}\n",
      "}Received message: Message {\n",
      "  data: b'4\\r\\n'\n",
      "  ordering_key: ''\n",
      "  attributes: {}\n",
      "}\n",
      "\n",
      "Received message: Message {\n",
      "  data: b'6\\r\\n'\n",
      "  ordering_key: ''\n",
      "  attributes: {}\n",
      "}\n",
      "Received message: Message {\n",
      "  data: b'7\\r\\n'\n",
      "  ordering_key: ''\n",
      "  attributes: {}\n",
      "}\n",
      "Received message: Message {\n",
      "  data: b'8\\r\\n'\n",
      "  ordering_key: ''\n",
      "  attributes: {}\n",
      "}\n",
      "Received message: Message {\n",
      "  data: b'1\\r\\n'\n",
      "  ordering_key: ''\n",
      "  attributes: {}\n",
      "}\n",
      "Received message: Message {\n",
      "  data: b'2\\r\\n'\n",
      "  ordering_key: ''\n",
      "  attributes: {}\n",
      "}\n",
      "Received message: Message {\n",
      "  data: b'9'\n",
      "  ordering_key: ''\n",
      "  attributes: {}\n",
      "}\n"
     ]
    },
    {
     "ename": "KeyboardInterrupt",
     "evalue": "",
     "output_type": "error",
     "traceback": [
      "\u001b[0;31m---------------------------------------------------------------------------\u001b[0m",
      "\u001b[0;31mKeyboardInterrupt\u001b[0m                         Traceback (most recent call last)",
      "\u001b[1;32m/Users/rahulmahajan/Desktop/Projects/5_Apache_Beam/Chapter7_Introudction_to_streaming.ipynb Cell 14\u001b[0m line \u001b[0;36m1\n\u001b[0;32m----> <a href='vscode-notebook-cell:/Users/rahulmahajan/Desktop/Projects/5_Apache_Beam/Chapter7_Introudction_to_streaming.ipynb#X21sZmlsZQ%3D%3D?line=0'>1</a>\u001b[0m subscribe()\n",
      "\u001b[1;32m/Users/rahulmahajan/Desktop/Projects/5_Apache_Beam/Chapter7_Introudction_to_streaming.ipynb Cell 14\u001b[0m line \u001b[0;36m2\n\u001b[1;32m     <a href='vscode-notebook-cell:/Users/rahulmahajan/Desktop/Projects/5_Apache_Beam/Chapter7_Introudction_to_streaming.ipynb#X21sZmlsZQ%3D%3D?line=20'>21</a>\u001b[0m subscriber\u001b[39m.\u001b[39msubscribe(subscription_path, callback\u001b[39m=\u001b[39mcallback)\n\u001b[1;32m     <a href='vscode-notebook-cell:/Users/rahulmahajan/Desktop/Projects/5_Apache_Beam/Chapter7_Introudction_to_streaming.ipynb#X21sZmlsZQ%3D%3D?line=22'>23</a>\u001b[0m \u001b[39mwhile\u001b[39;00m \u001b[39mTrue\u001b[39;00m:\n\u001b[0;32m---> <a href='vscode-notebook-cell:/Users/rahulmahajan/Desktop/Projects/5_Apache_Beam/Chapter7_Introudction_to_streaming.ipynb#X21sZmlsZQ%3D%3D?line=23'>24</a>\u001b[0m     time\u001b[39m.\u001b[39;49msleep(\u001b[39m60\u001b[39;49m)\n",
      "\u001b[0;31mKeyboardInterrupt\u001b[0m: "
     ]
    }
   ],
   "source": [
    "subscribe()"
   ]
  },
  {
   "cell_type": "code",
   "execution_count": null,
   "metadata": {},
   "outputs": [],
   "source": []
  }
 ],
 "metadata": {
  "kernelspec": {
   "display_name": "Python 3",
   "language": "python",
   "name": "python3"
  },
  "language_info": {
   "codemirror_mode": {
    "name": "ipython",
    "version": 3
   },
   "file_extension": ".py",
   "mimetype": "text/x-python",
   "name": "python",
   "nbconvert_exporter": "python",
   "pygments_lexer": "ipython3",
   "version": "3.11.3"
  },
  "orig_nbformat": 4
 },
 "nbformat": 4,
 "nbformat_minor": 2
}
